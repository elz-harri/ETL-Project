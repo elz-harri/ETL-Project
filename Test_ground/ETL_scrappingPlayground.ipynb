{
 "cells": [
  {
   "cell_type": "code",
   "execution_count": 1,
   "metadata": {},
   "outputs": [],
   "source": [
    "from splinter import Browser\n",
    "from bs4 import BeautifulSoup"
   ]
  },
  {
   "cell_type": "code",
   "execution_count": 2,
   "metadata": {},
   "outputs": [],
   "source": [
    "# Setup splinter\n",
    "browser = Browser('chrome')"
   ]
  },
  {
   "cell_type": "code",
   "execution_count": 3,
   "metadata": {},
   "outputs": [],
   "source": [
    "url = 'http://quotes.toscrape.com'\n",
    "browser.visit(url)"
   ]
  },
  {
   "cell_type": "code",
   "execution_count": 6,
   "metadata": {},
   "outputs": [],
   "source": [
    "html = browser.html\n",
    "soup = BeautifulSoup(html, 'html.parser')\n",
    "\n",
    "quotes = soup.find_all('div', class_='quote')"
   ]
  },
  {
   "cell_type": "code",
   "execution_count": 5,
   "metadata": {},
   "outputs": [
    {
     "data": {
      "text/plain": [
       "[<div class=\"quote\" itemscope=\"\" itemtype=\"http://schema.org/CreativeWork\">\n",
       " <span class=\"text\" itemprop=\"text\">“The world as we have created it is a process of our thinking. It cannot be changed without changing our thinking.”</span>\n",
       " <span>by <small class=\"author\" itemprop=\"author\">Albert Einstein</small>\n",
       " <a href=\"/author/Albert-Einstein\">(about)</a>\n",
       " </span>\n",
       " <div class=\"tags\">\n",
       "             Tags:\n",
       "             <meta class=\"keywords\" content=\"change,deep-thoughts,thinking,world\" itemprop=\"keywords\"/>\n",
       " <a class=\"tag\" href=\"/tag/change/page/1/\">change</a>\n",
       " <a class=\"tag\" href=\"/tag/deep-thoughts/page/1/\">deep-thoughts</a>\n",
       " <a class=\"tag\" href=\"/tag/thinking/page/1/\">thinking</a>\n",
       " <a class=\"tag\" href=\"/tag/world/page/1/\">world</a>\n",
       " </div>\n",
       " </div>,\n",
       " <div class=\"quote\" itemscope=\"\" itemtype=\"http://schema.org/CreativeWork\">\n",
       " <span class=\"text\" itemprop=\"text\">“It is our choices, Harry, that show what we truly are, far more than our abilities.”</span>\n",
       " <span>by <small class=\"author\" itemprop=\"author\">J.K. Rowling</small>\n",
       " <a href=\"/author/J-K-Rowling\">(about)</a>\n",
       " </span>\n",
       " <div class=\"tags\">\n",
       "             Tags:\n",
       "             <meta class=\"keywords\" content=\"abilities,choices\" itemprop=\"keywords\"/>\n",
       " <a class=\"tag\" href=\"/tag/abilities/page/1/\">abilities</a>\n",
       " <a class=\"tag\" href=\"/tag/choices/page/1/\">choices</a>\n",
       " </div>\n",
       " </div>,\n",
       " <div class=\"quote\" itemscope=\"\" itemtype=\"http://schema.org/CreativeWork\">\n",
       " <span class=\"text\" itemprop=\"text\">“There are only two ways to live your life. One is as though nothing is a miracle. The other is as though everything is a miracle.”</span>\n",
       " <span>by <small class=\"author\" itemprop=\"author\">Albert Einstein</small>\n",
       " <a href=\"/author/Albert-Einstein\">(about)</a>\n",
       " </span>\n",
       " <div class=\"tags\">\n",
       "             Tags:\n",
       "             <meta class=\"keywords\" content=\"inspirational,life,live,miracle,miracles\" itemprop=\"keywords\"/>\n",
       " <a class=\"tag\" href=\"/tag/inspirational/page/1/\">inspirational</a>\n",
       " <a class=\"tag\" href=\"/tag/life/page/1/\">life</a>\n",
       " <a class=\"tag\" href=\"/tag/live/page/1/\">live</a>\n",
       " <a class=\"tag\" href=\"/tag/miracle/page/1/\">miracle</a>\n",
       " <a class=\"tag\" href=\"/tag/miracles/page/1/\">miracles</a>\n",
       " </div>\n",
       " </div>,\n",
       " <div class=\"quote\" itemscope=\"\" itemtype=\"http://schema.org/CreativeWork\">\n",
       " <span class=\"text\" itemprop=\"text\">“The person, be it gentleman or lady, who has not pleasure in a good novel, must be intolerably stupid.”</span>\n",
       " <span>by <small class=\"author\" itemprop=\"author\">Jane Austen</small>\n",
       " <a href=\"/author/Jane-Austen\">(about)</a>\n",
       " </span>\n",
       " <div class=\"tags\">\n",
       "             Tags:\n",
       "             <meta class=\"keywords\" content=\"aliteracy,books,classic,humor\" itemprop=\"keywords\"/>\n",
       " <a class=\"tag\" href=\"/tag/aliteracy/page/1/\">aliteracy</a>\n",
       " <a class=\"tag\" href=\"/tag/books/page/1/\">books</a>\n",
       " <a class=\"tag\" href=\"/tag/classic/page/1/\">classic</a>\n",
       " <a class=\"tag\" href=\"/tag/humor/page/1/\">humor</a>\n",
       " </div>\n",
       " </div>,\n",
       " <div class=\"quote\" itemscope=\"\" itemtype=\"http://schema.org/CreativeWork\">\n",
       " <span class=\"text\" itemprop=\"text\">“Imperfection is beauty, madness is genius and it's better to be absolutely ridiculous than absolutely boring.”</span>\n",
       " <span>by <small class=\"author\" itemprop=\"author\">Marilyn Monroe</small>\n",
       " <a href=\"/author/Marilyn-Monroe\">(about)</a>\n",
       " </span>\n",
       " <div class=\"tags\">\n",
       "             Tags:\n",
       "             <meta class=\"keywords\" content=\"be-yourself,inspirational\" itemprop=\"keywords\"/>\n",
       " <a class=\"tag\" href=\"/tag/be-yourself/page/1/\">be-yourself</a>\n",
       " <a class=\"tag\" href=\"/tag/inspirational/page/1/\">inspirational</a>\n",
       " </div>\n",
       " </div>,\n",
       " <div class=\"quote\" itemscope=\"\" itemtype=\"http://schema.org/CreativeWork\">\n",
       " <span class=\"text\" itemprop=\"text\">“Try not to become a man of success. Rather become a man of value.”</span>\n",
       " <span>by <small class=\"author\" itemprop=\"author\">Albert Einstein</small>\n",
       " <a href=\"/author/Albert-Einstein\">(about)</a>\n",
       " </span>\n",
       " <div class=\"tags\">\n",
       "             Tags:\n",
       "             <meta class=\"keywords\" content=\"adulthood,success,value\" itemprop=\"keywords\"/>\n",
       " <a class=\"tag\" href=\"/tag/adulthood/page/1/\">adulthood</a>\n",
       " <a class=\"tag\" href=\"/tag/success/page/1/\">success</a>\n",
       " <a class=\"tag\" href=\"/tag/value/page/1/\">value</a>\n",
       " </div>\n",
       " </div>,\n",
       " <div class=\"quote\" itemscope=\"\" itemtype=\"http://schema.org/CreativeWork\">\n",
       " <span class=\"text\" itemprop=\"text\">“It is better to be hated for what you are than to be loved for what you are not.”</span>\n",
       " <span>by <small class=\"author\" itemprop=\"author\">André Gide</small>\n",
       " <a href=\"/author/Andre-Gide\">(about)</a>\n",
       " </span>\n",
       " <div class=\"tags\">\n",
       "             Tags:\n",
       "             <meta class=\"keywords\" content=\"life,love\" itemprop=\"keywords\"/>\n",
       " <a class=\"tag\" href=\"/tag/life/page/1/\">life</a>\n",
       " <a class=\"tag\" href=\"/tag/love/page/1/\">love</a>\n",
       " </div>\n",
       " </div>,\n",
       " <div class=\"quote\" itemscope=\"\" itemtype=\"http://schema.org/CreativeWork\">\n",
       " <span class=\"text\" itemprop=\"text\">“I have not failed. I've just found 10,000 ways that won't work.”</span>\n",
       " <span>by <small class=\"author\" itemprop=\"author\">Thomas A. Edison</small>\n",
       " <a href=\"/author/Thomas-A-Edison\">(about)</a>\n",
       " </span>\n",
       " <div class=\"tags\">\n",
       "             Tags:\n",
       "             <meta class=\"keywords\" content=\"edison,failure,inspirational,paraphrased\" itemprop=\"keywords\"/>\n",
       " <a class=\"tag\" href=\"/tag/edison/page/1/\">edison</a>\n",
       " <a class=\"tag\" href=\"/tag/failure/page/1/\">failure</a>\n",
       " <a class=\"tag\" href=\"/tag/inspirational/page/1/\">inspirational</a>\n",
       " <a class=\"tag\" href=\"/tag/paraphrased/page/1/\">paraphrased</a>\n",
       " </div>\n",
       " </div>,\n",
       " <div class=\"quote\" itemscope=\"\" itemtype=\"http://schema.org/CreativeWork\">\n",
       " <span class=\"text\" itemprop=\"text\">“A woman is like a tea bag; you never know how strong it is until it's in hot water.”</span>\n",
       " <span>by <small class=\"author\" itemprop=\"author\">Eleanor Roosevelt</small>\n",
       " <a href=\"/author/Eleanor-Roosevelt\">(about)</a>\n",
       " </span>\n",
       " <div class=\"tags\">\n",
       "             Tags:\n",
       "             <meta class=\"keywords\" content=\"misattributed-eleanor-roosevelt\" itemprop=\"keywords\"/>\n",
       " <a class=\"tag\" href=\"/tag/misattributed-eleanor-roosevelt/page/1/\">misattributed-eleanor-roosevelt</a>\n",
       " </div>\n",
       " </div>,\n",
       " <div class=\"quote\" itemscope=\"\" itemtype=\"http://schema.org/CreativeWork\">\n",
       " <span class=\"text\" itemprop=\"text\">“A day without sunshine is like, you know, night.”</span>\n",
       " <span>by <small class=\"author\" itemprop=\"author\">Steve Martin</small>\n",
       " <a href=\"/author/Steve-Martin\">(about)</a>\n",
       " </span>\n",
       " <div class=\"tags\">\n",
       "             Tags:\n",
       "             <meta class=\"keywords\" content=\"humor,obvious,simile\" itemprop=\"keywords\"/>\n",
       " <a class=\"tag\" href=\"/tag/humor/page/1/\">humor</a>\n",
       " <a class=\"tag\" href=\"/tag/obvious/page/1/\">obvious</a>\n",
       " <a class=\"tag\" href=\"/tag/simile/page/1/\">simile</a>\n",
       " </div>\n",
       " </div>]"
      ]
     },
     "execution_count": 5,
     "metadata": {},
     "output_type": "execute_result"
    }
   ],
   "source": [
    "quotes"
   ]
  },
  {
   "cell_type": "code",
   "execution_count": 6,
   "metadata": {},
   "outputs": [
    {
     "data": {
      "text/plain": [
       "'“The world as we have created it is a process of our thinking. It cannot be changed without changing our thinking.”'"
      ]
     },
     "execution_count": 6,
     "metadata": {},
     "output_type": "execute_result"
    }
   ],
   "source": [
    "quotes[0].find('span', class_='text').text\n"
   ]
  },
  {
   "cell_type": "code",
   "execution_count": 7,
   "metadata": {},
   "outputs": [
    {
     "data": {
      "text/plain": [
       "'Albert Einstein'"
      ]
     },
     "execution_count": 7,
     "metadata": {},
     "output_type": "execute_result"
    }
   ],
   "source": [
    "quotes[0].find('small', class_='author').text"
   ]
  },
  {
   "cell_type": "code",
   "execution_count": 8,
   "metadata": {},
   "outputs": [
    {
     "data": {
      "text/plain": [
       "[<a class=\"tag\" href=\"/tag/change/page/1/\">change</a>,\n",
       " <a class=\"tag\" href=\"/tag/deep-thoughts/page/1/\">deep-thoughts</a>,\n",
       " <a class=\"tag\" href=\"/tag/thinking/page/1/\">thinking</a>,\n",
       " <a class=\"tag\" href=\"/tag/world/page/1/\">world</a>]"
      ]
     },
     "execution_count": 8,
     "metadata": {},
     "output_type": "execute_result"
    }
   ],
   "source": [
    "quotes[0].find_all('a', class_='tag')"
   ]
  },
  {
   "cell_type": "code",
   "execution_count": 9,
   "metadata": {},
   "outputs": [
    {
     "data": {
      "text/plain": [
       "4"
      ]
     },
     "execution_count": 9,
     "metadata": {},
     "output_type": "execute_result"
    }
   ],
   "source": [
    "len(quotes[0].find_all('a', class_='tag'))"
   ]
  },
  {
   "cell_type": "code",
   "execution_count": 10,
   "metadata": {},
   "outputs": [
    {
     "data": {
      "text/plain": [
       "'Albert Einstein'"
      ]
     },
     "execution_count": 10,
     "metadata": {},
     "output_type": "execute_result"
    }
   ],
   "source": [
    "quotes[0].find('small', class_='author').text"
   ]
  },
  {
   "cell_type": "code",
   "execution_count": 7,
   "metadata": {},
   "outputs": [],
   "source": [
    "href = quotes[0].find_all('span')[1].find('a')['href']"
   ]
  },
  {
   "cell_type": "code",
   "execution_count": 12,
   "metadata": {},
   "outputs": [
    {
     "data": {
      "text/plain": [
       "'http://quotes.toscrape.com/'"
      ]
     },
     "execution_count": 12,
     "metadata": {},
     "output_type": "execute_result"
    }
   ],
   "source": [
    "browser.url"
   ]
  },
  {
   "cell_type": "code",
   "execution_count": 13,
   "metadata": {},
   "outputs": [
    {
     "data": {
      "text/plain": [
       "27"
      ]
     },
     "execution_count": 13,
     "metadata": {},
     "output_type": "execute_result"
    }
   ],
   "source": [
    "len(browser.url)"
   ]
  },
  {
   "cell_type": "code",
   "execution_count": 14,
   "metadata": {},
   "outputs": [
    {
     "data": {
      "text/plain": [
       "'http://quotes.toscrape.com'"
      ]
     },
     "execution_count": 14,
     "metadata": {},
     "output_type": "execute_result"
    }
   ],
   "source": [
    "browser.url[:-1]"
   ]
  },
  {
   "cell_type": "code",
   "execution_count": 15,
   "metadata": {},
   "outputs": [
    {
     "data": {
      "text/plain": [
       "'http://quotes.toscrape.com/author/Albert-Einstein'"
      ]
     },
     "execution_count": 15,
     "metadata": {},
     "output_type": "execute_result"
    }
   ],
   "source": [
    "browser.url[:-1]+quotes[0].find_all('span')[1].find('a')['href']"
   ]
  },
  {
   "cell_type": "code",
   "execution_count": 8,
   "metadata": {},
   "outputs": [],
   "source": [
    "from urllib.parse import urljoin"
   ]
  },
  {
   "cell_type": "code",
   "execution_count": 9,
   "metadata": {},
   "outputs": [
    {
     "data": {
      "text/plain": [
       "'http://quotes.toscrape.com/author/Albert-Einstein'"
      ]
     },
     "execution_count": 9,
     "metadata": {},
     "output_type": "execute_result"
    }
   ],
   "source": [
    "testURL = urljoin(url,href)\n",
    "testURL"
   ]
  },
  {
   "cell_type": "code",
   "execution_count": 10,
   "metadata": {},
   "outputs": [
    {
     "data": {
      "text/plain": [
       "'/author/Albert-Einstein'"
      ]
     },
     "execution_count": 10,
     "metadata": {},
     "output_type": "execute_result"
    }
   ],
   "source": [
    "quotes[0].find('a')['href']"
   ]
  },
  {
   "cell_type": "markdown",
   "metadata": {},
   "source": [
    "# Functions:\n",
    "1. get quote box on page\n",
    "2. get details of a single quote\n",
    "3. get author details"
   ]
  },
  {
   "cell_type": "code",
   "execution_count": null,
   "metadata": {},
   "outputs": [],
   "source": []
  },
  {
   "cell_type": "code",
   "execution_count": 16,
   "metadata": {},
   "outputs": [
    {
     "name": "stdout",
     "output_type": "stream",
     "text": [
      "page: 1 -------------\n",
      "“The world as we have created it is a process of our thinking. It cannot be changed without changing our thinking.”\n",
      "page: 1 -------------\n",
      "“It is our choices, Harry, that show what we truly are, far more than our abilities.”\n",
      "page: 1 -------------\n",
      "“There are only two ways to live your life. One is as though nothing is a miracle. The other is as though everything is a miracle.”\n",
      "page: 1 -------------\n",
      "“The person, be it gentleman or lady, who has not pleasure in a good novel, must be intolerably stupid.”\n",
      "page: 1 -------------\n",
      "“Imperfection is beauty, madness is genius and it's better to be absolutely ridiculous than absolutely boring.”\n",
      "page: 1 -------------\n",
      "“Try not to become a man of success. Rather become a man of value.”\n",
      "page: 1 -------------\n",
      "“It is better to be hated for what you are than to be loved for what you are not.”\n",
      "page: 1 -------------\n",
      "“I have not failed. I've just found 10,000 ways that won't work.”\n",
      "page: 1 -------------\n",
      "“A woman is like a tea bag; you never know how strong it is until it's in hot water.”\n",
      "page: 1 -------------\n",
      "“A day without sunshine is like, you know, night.”\n",
      "page: 2 -------------\n",
      "“This life is what you make it. No matter what, you're going to mess up sometimes, it's a universal truth. But the good part is you get to decide how you're going to mess it up. Girls will be your friends - they'll act like it anyway. But just remember, some come, some go. The ones that stay with you through everything - they're your true best friends. Don't let go of them. Also remember, sisters make the best friends in the world. As for lovers, well, they'll come and go too. And baby, I hate to say it, most of them - actually pretty much all of them are going to break your heart, but you can't give up because if you give up, you'll never find your soulmate. You'll never find that half who makes you whole and that goes for everything. Just because you fail once, doesn't mean you're gonna fail at everything. Keep trying, hold on, and always, always, always believe in yourself, because if you don't, then who will, sweetie? So keep your head high, keep your chin up, and most importantly, keep smiling, because life's a beautiful thing and there's so much to smile about.”\n",
      "page: 2 -------------\n",
      "“It takes a great deal of bravery to stand up to our enemies, but just as much to stand up to our friends.”\n",
      "page: 2 -------------\n",
      "“If you can't explain it to a six year old, you don't understand it yourself.”\n",
      "page: 2 -------------\n",
      "“You may not be her first, her last, or her only. She loved before she may love again. But if she loves you now, what else matters? She's not perfect—you aren't either, and the two of you may never be perfect together but if she can make you laugh, cause you to think twice, and admit to being human and making mistakes, hold onto her and give her the most you can. She may not be thinking about you every second of the day, but she will give you a part of her that she knows you can break—her heart. So don't hurt her, don't change her, don't analyze and don't expect more than she can give. Smile when she makes you happy, let her know when she makes you mad, and miss her when she's not there.”\n",
      "page: 2 -------------\n",
      "“I like nonsense, it wakes up the brain cells. Fantasy is a necessary ingredient in living.”\n",
      "page: 2 -------------\n",
      "“I may not have gone where I intended to go, but I think I have ended up where I needed to be.”\n",
      "page: 2 -------------\n",
      "“The opposite of love is not hate, it's indifference. The opposite of art is not ugliness, it's indifference. The opposite of faith is not heresy, it's indifference. And the opposite of life is not death, it's indifference.”\n",
      "page: 2 -------------\n",
      "“It is not a lack of love, but a lack of friendship that makes unhappy marriages.”\n",
      "page: 2 -------------\n",
      "“Good friends, good books, and a sleepy conscience: this is the ideal life.”\n",
      "page: 2 -------------\n",
      "“Life is what happens to us while we are making other plans.”\n",
      "page: 3 -------------\n",
      "“I love you without knowing how, or when, or from where. I love you simply, without problems or pride: I love you in this way because I do not know any other way of loving but this, in which there is no I or you, so intimate that your hand upon my chest is my hand, so intimate that when I fall asleep your eyes close.”\n",
      "page: 3 -------------\n",
      "“For every minute you are angry you lose sixty seconds of happiness.”\n",
      "page: 3 -------------\n",
      "“If you judge people, you have no time to love them.”\n",
      "page: 3 -------------\n",
      "“Anyone who thinks sitting in church can make you a Christian must also think that sitting in a garage can make you a car.”\n",
      "page: 3 -------------\n",
      "“Beauty is in the eye of the beholder and it may be necessary from time to time to give a stupid or misinformed beholder a black eye.”\n",
      "page: 3 -------------\n",
      "“Today you are You, that is truer than true. There is no one alive who is Youer than You.”\n",
      "page: 3 -------------\n",
      "“If you want your children to be intelligent, read them fairy tales. If you want them to be more intelligent, read them more fairy tales.”\n",
      "page: 3 -------------\n",
      "“It is impossible to live without failing at something, unless you live so cautiously that you might as well not have lived at all - in which case, you fail by default.”\n",
      "page: 3 -------------\n",
      "“Logic will get you from A to Z; imagination will get you everywhere.”\n",
      "page: 3 -------------\n",
      "“One good thing about music, when it hits you, you feel no pain.”\n",
      "page: 4 -------------\n",
      "“The more that you read, the more things you will know. The more that you learn, the more places you'll go.”\n",
      "page: 4 -------------\n",
      "“Of course it is happening inside your head, Harry, but why on earth should that mean that it is not real?”\n",
      "page: 4 -------------\n",
      "“The truth is, everyone is going to hurt you. You just got to find the ones worth suffering for.”\n",
      "page: 4 -------------\n",
      "“Not all of us can do great things. But we can do small things with great love.”\n",
      "page: 4 -------------\n",
      "“To the well-organized mind, death is but the next great adventure.”\n",
      "page: 4 -------------\n",
      "“All you need is love. But a little chocolate now and then doesn't hurt.”\n",
      "page: 4 -------------\n",
      "“We read to know we're not alone.”\n",
      "page: 4 -------------\n",
      "“Any fool can know. The point is to understand.”\n",
      "page: 4 -------------\n",
      "“I have always imagined that Paradise will be a kind of library.”\n",
      "page: 4 -------------\n",
      "“It is never too late to be what you might have been.”\n",
      "page: 5 -------------\n",
      "“A reader lives a thousand lives before he dies, said Jojen. The man who never reads lives only one.”\n",
      "page: 5 -------------\n",
      "“You can never get a cup of tea large enough or a book long enough to suit me.”\n",
      "page: 5 -------------\n",
      "“You believe lies so you eventually learn to trust no one but yourself.”\n",
      "page: 5 -------------\n",
      "“If you can make a woman laugh, you can make her do anything.”\n",
      "page: 5 -------------\n",
      "“Life is like riding a bicycle. To keep your balance, you must keep moving.”\n",
      "page: 5 -------------\n",
      "“The real lover is the man who can thrill you by kissing your forehead or smiling into your eyes or just staring into space.”\n",
      "page: 5 -------------\n",
      "“A wise girl kisses but doesn't love, listens but doesn't believe, and leaves before she is left.”\n",
      "page: 5 -------------\n",
      "“Only in the darkness can you see the stars.”\n",
      "page: 5 -------------\n",
      "“It matters not what someone is born, but what they grow to be.”\n",
      "page: 5 -------------\n",
      "“Love does not begin and end the way we seem to think it does. Love is a battle, love is a war; love is a growing up.”\n",
      "page: 6 -------------\n",
      "“There is nothing I would not do for those who are really my friends. I have no notion of loving people by halves, it is not my nature.”\n",
      "page: 6 -------------\n",
      "“Do one thing every day that scares you.”\n",
      "page: 6 -------------\n",
      "“I am good, but not an angel. I do sin, but I am not the devil. I am just a small girl in a big world trying to find someone to love.”\n",
      "page: 6 -------------\n",
      "“If I were not a physicist, I would probably be a musician. I often think in music. I live my daydreams in music. I see my life in terms of music.”\n",
      "page: 6 -------------\n",
      "“If you only read the books that everyone else is reading, you can only think what everyone else is thinking.”\n",
      "page: 6 -------------\n",
      "“The difference between genius and stupidity is: genius has its limits.”\n",
      "page: 6 -------------\n",
      "“He's like a drug for you, Bella.”\n",
      "page: 6 -------------\n",
      "“There is no friend as loyal as a book.”\n",
      "page: 6 -------------\n",
      "“When one door of happiness closes, another opens; but often we look so long at the closed door that we do not see the one which has been opened for us.”\n",
      "page: 6 -------------\n",
      "“Life isn't about finding yourself. Life is about creating yourself.”\n"
     ]
    },
    {
     "name": "stdout",
     "output_type": "stream",
     "text": [
      "page: 7 -------------\n",
      "“That's the problem with drinking, I thought, as I poured myself a drink. If something bad happens you drink in an attempt to forget; if something good happens you drink in order to celebrate; and if nothing happens you drink to make something happen.”\n",
      "page: 7 -------------\n",
      "“You don’t forget the face of the person who was your last hope.”\n",
      "page: 7 -------------\n",
      "“Remember, we're madly in love, so it's all right to kiss me anytime you feel like it.”\n",
      "page: 7 -------------\n",
      "“To love at all is to be vulnerable. Love anything and your heart will be wrung and possibly broken. If you want to make sure of keeping it intact you must give it to no one, not even an animal. Wrap it carefully round with hobbies and little luxuries; avoid all entanglements. Lock it up safe in the casket or coffin of your selfishness. But in that casket, safe, dark, motionless, airless, it will change. It will not be broken; it will become unbreakable, impenetrable, irredeemable. To love is to be vulnerable.”\n",
      "page: 7 -------------\n",
      "“Not all those who wander are lost.”\n",
      "page: 7 -------------\n",
      "“Do not pity the dead, Harry. Pity the living, and, above all those who live without love.”\n",
      "page: 7 -------------\n",
      "“There is nothing to writing. All you do is sit down at a typewriter and bleed.”\n",
      "page: 7 -------------\n",
      "“Finish each day and be done with it. You have done what you could. Some blunders and absurdities no doubt crept in; forget them as soon as you can. Tomorrow is a new day. You shall begin it serenely and with too high a spirit to be encumbered with your old nonsense.”\n",
      "page: 7 -------------\n",
      "“I have never let my schooling interfere with my education.”\n",
      "page: 7 -------------\n",
      "“I have heard there are troubles of more than one kind. Some come from ahead and some come from behind. But I've bought a big bat. I'm all ready you see. Now my troubles are going to have troubles with me!”\n",
      "page: 8 -------------\n",
      "“If I had a flower for every time I thought of you...I could walk through my garden forever.”\n",
      "page: 8 -------------\n",
      "“Some people never go crazy. What truly horrible lives they must lead.”\n",
      "page: 8 -------------\n",
      "“The trouble with having an open mind, of course, is that people will insist on coming along and trying to put things in it.”\n",
      "page: 8 -------------\n",
      "“Think left and think right and think low and think high. Oh, the thinks you can think up if only you try!”\n",
      "page: 8 -------------\n",
      "“What really knocks me out is a book that, when you're all done reading it, you wish the author that wrote it was a terrific friend of yours and you could call him up on the phone whenever you felt like it. That doesn't happen much, though.”\n",
      "page: 8 -------------\n",
      "“The reason I talk to myself is because I’m the only one whose answers I accept.”\n",
      "page: 8 -------------\n",
      "“You may say I'm a dreamer, but I'm not the only one. I hope someday you'll join us. And the world will live as one.”\n",
      "page: 8 -------------\n",
      "“I am free of all prejudice. I hate everyone equally. ”\n",
      "page: 8 -------------\n",
      "“The question isn't who is going to let me; it's who is going to stop me.”\n",
      "page: 8 -------------\n",
      "“′Classic′ - a book which people praise and don't read.”\n",
      "page: 9 -------------\n",
      "“Anyone who has never made a mistake has never tried anything new.”\n",
      "page: 9 -------------\n",
      "“A lady's imagination is very rapid; it jumps from admiration to love, from love to matrimony in a moment.”\n",
      "page: 9 -------------\n",
      "“Remember, if the time should come when you have to make a choice between what is right and what is easy, remember what happened to a boy who was good, and kind, and brave, because he strayed across the path of Lord Voldemort. Remember Cedric Diggory.”\n",
      "page: 9 -------------\n",
      "“I declare after all there is no enjoyment like reading! How much sooner one tires of any thing than of a book! -- When I have a house of my own, I shall be miserable if I have not an excellent library.”\n",
      "page: 9 -------------\n",
      "“There are few people whom I really love, and still fewer of whom I think well. The more I see of the world, the more am I dissatisfied with it; and every day confirms my belief of the inconsistency of all human characters, and of the little dependence that can be placed on the appearance of merit or sense.”\n",
      "page: 9 -------------\n",
      "“Some day you will be old enough to start reading fairy tales again.”\n",
      "page: 9 -------------\n",
      "“We are not necessarily doubting that God will do the best for us; we are wondering how painful the best will turn out to be.”\n",
      "page: 9 -------------\n",
      "“The fear of death follows from the fear of life. A man who lives fully is prepared to die at any time.”\n",
      "page: 9 -------------\n",
      "“A lie can travel half way around the world while the truth is putting on its shoes.”\n",
      "page: 9 -------------\n",
      "“I believe in Christianity as I believe that the sun has risen: not only because I see it, but because by it I see everything else.”\n",
      "page: 10 -------------\n",
      "“The truth.\" Dumbledore sighed. \"It is a beautiful and terrible thing, and should therefore be treated with great caution.”\n",
      "page: 10 -------------\n",
      "“I'm the one that's got to die when it's time for me to die, so let me live my life the way I want to.”\n",
      "page: 10 -------------\n",
      "“To die will be an awfully big adventure.”\n",
      "page: 10 -------------\n",
      "“It takes courage to grow up and become who you really are.”\n",
      "page: 10 -------------\n",
      "“But better to get hurt by the truth than comforted with a lie.”\n",
      "page: 10 -------------\n",
      "“You never really understand a person until you consider things from his point of view... Until you climb inside of his skin and walk around in it.”\n",
      "page: 10 -------------\n",
      "“You have to write the book that wants to be written. And if the book will be too difficult for grown-ups, then you write it for children.”\n",
      "page: 10 -------------\n",
      "“Never tell the truth to people who are not worthy of it.”\n",
      "page: 10 -------------\n",
      "“A person's a person, no matter how small.”\n",
      "page: 10 -------------\n",
      "“... a mind needs books as a sword needs a whetstone, if it is to keep its edge.”\n"
     ]
    }
   ],
   "source": [
    "for x in range(1, 11):\n",
    "\n",
    "    html = browser.html\n",
    "    soup = BeautifulSoup(html, 'html.parser')\n",
    "\n",
    "    quotes = soup.find_all('span', class_='text')\n",
    "\n",
    "    for quote in quotes:\n",
    "        print('page:', x, '-------------')\n",
    "        print(quote.text)\n",
    "    try:\n",
    "        browser.links.find_by_partial_text('Next').click()\n",
    "    except:\n",
    "        pass"
   ]
  },
  {
   "cell_type": "code",
   "execution_count": null,
   "metadata": {},
   "outputs": [],
   "source": [
    "browser.quit()"
   ]
  }
 ],
 "metadata": {
  "kernelspec": {
   "display_name": "Python 3",
   "language": "python",
   "name": "python3"
  },
  "language_info": {
   "codemirror_mode": {
    "name": "ipython",
    "version": 3
   },
   "file_extension": ".py",
   "mimetype": "text/x-python",
   "name": "python",
   "nbconvert_exporter": "python",
   "pygments_lexer": "ipython3",
   "version": "3.8.3"
  }
 },
 "nbformat": 4,
 "nbformat_minor": 4
}
